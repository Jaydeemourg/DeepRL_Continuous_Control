{
 "cells": [
  {
   "cell_type": "markdown",
   "metadata": {},
   "source": [
    "# Continuous Control\n",
    "\n",
    "---\n",
    "\n",
    "This notebook uses the Unity ML-Agents environment for the second project of the [Deep Reinforcement Learning Nanodegree](https://www.udacity.com/course/deep-reinforcement-learning-nanodegree--nd893) program.\n",
    "\n",
    "### 1. Import necessary packages\n"
   ]
  },
  {
   "cell_type": "code",
   "execution_count": 1,
   "metadata": {},
   "outputs": [],
   "source": [
    "from unityagents import UnityEnvironment\n",
    "import numpy as np\n",
    "import torch\n",
    "from collections import deque\n",
    "import matplotlib.pyplot as plt\n",
    "from DDPG_agent import Agent\n",
    "from itertools import count\n",
    "import time"
   ]
  },
  {
   "cell_type": "markdown",
   "metadata": {},
   "source": [
    "### 2. Start the Environment"
   ]
  },
  {
   "cell_type": "code",
   "execution_count": 2,
   "metadata": {},
   "outputs": [
    {
     "name": "stderr",
     "output_type": "stream",
     "text": [
      "INFO:unityagents:\n",
      "'Academy' started successfully!\n",
      "Unity Academy name: Academy\n",
      "        Number of Brains: 1\n",
      "        Number of External Brains : 1\n",
      "        Lesson number : 0\n",
      "        Reset Parameters :\n",
      "\t\tgoal_size -> 5.0\n",
      "\t\tgoal_speed -> 1.0\n",
      "Unity brain name: ReacherBrain\n",
      "        Number of Visual Observations (per agent): 0\n",
      "        Vector Observation space type: continuous\n",
      "        Vector Observation space size (per agent): 33\n",
      "        Number of stacked Vector Observation: 1\n",
      "        Vector Action space type: continuous\n",
      "        Vector Action space size (per agent): 4\n",
      "        Vector Action descriptions: , , , \n"
     ]
    }
   ],
   "source": [
    "env = UnityEnvironment(file_name='./Reacher_Linux/Reacher.x86_64')"
   ]
  },
  {
   "cell_type": "markdown",
   "metadata": {},
   "source": [
    "Environments contain **_brains_** which are responsible for deciding the actions of their associated agents. Here we check for the first brain available, and set it as the default brain we will be controlling from Python."
   ]
  },
  {
   "cell_type": "code",
   "execution_count": 3,
   "metadata": {},
   "outputs": [],
   "source": [
    "# get the default brain\n",
    "brain_name = env.brain_names[0]\n",
    "brain = env.brains[brain_name]"
   ]
  },
  {
   "cell_type": "markdown",
   "metadata": {},
   "source": [
    "### 3. Examine the State and Action Spaces\n",
    "\n",
    "In this environment, a double-jointed arm can move to target locations. A reward of `+0.1` is provided for each step that the agent's hand is in the goal location. Thus, the goal of your agent is to maintain its position at the target location for as many time steps as possible.\n",
    "\n",
    "The observation space consists of `33` variables corresponding to position, rotation, velocity, and angular velocities of the arm.  Each action is a vector with four numbers, corresponding to torque applicable to two joints.  Every entry in the action vector must be a number between `-1` and `1`."
   ]
  },
  {
   "cell_type": "code",
   "execution_count": 4,
   "metadata": {},
   "outputs": [
    {
     "name": "stdout",
     "output_type": "stream",
     "text": [
      "Number of agents: 20\n",
      "Size of each action: 4\n",
      "There are 20 agents. Each observes a state with length: 33\n",
      "The state for the first agent looks like: [ 0.00000000e+00 -4.00000000e+00  0.00000000e+00  1.00000000e+00\n",
      " -0.00000000e+00 -0.00000000e+00 -4.37113883e-08  0.00000000e+00\n",
      "  0.00000000e+00  0.00000000e+00  0.00000000e+00  0.00000000e+00\n",
      "  0.00000000e+00  0.00000000e+00 -1.00000000e+01  0.00000000e+00\n",
      "  1.00000000e+00 -0.00000000e+00 -0.00000000e+00 -4.37113883e-08\n",
      "  0.00000000e+00  0.00000000e+00  0.00000000e+00  0.00000000e+00\n",
      "  0.00000000e+00  0.00000000e+00  5.75471878e+00 -1.00000000e+00\n",
      "  5.55726624e+00  0.00000000e+00  1.00000000e+00  0.00000000e+00\n",
      " -1.68164849e-01]\n"
     ]
    }
   ],
   "source": [
    "# Information about the environment.\n",
    "# reset the environment\n",
    "env_info = env.reset(train_mode=True)[brain_name]\n",
    "\n",
    "# number of agents\n",
    "num_agents = len(env_info.agents)\n",
    "print('Number of agents:', num_agents)\n",
    "\n",
    "# size of each action\n",
    "action_size = brain.vector_action_space_size\n",
    "print('Size of each action:', action_size)\n",
    "\n",
    "# examine the state space \n",
    "states = env_info.vector_observations\n",
    "state_size = states.shape[1]\n",
    "print('There are {} agents. Each observes a state with length: {}'.format(states.shape[0], state_size))\n",
    "print('The state for the first agent looks like:', states[0])"
   ]
  },
  {
   "cell_type": "markdown",
   "metadata": {},
   "source": [
    "### 4. Instantiate the agent"
   ]
  },
  {
   "cell_type": "code",
   "execution_count": 5,
   "metadata": {},
   "outputs": [],
   "source": [
    "num_agents = len(env_info.agents)\n",
    "agent = Agent(state_size=state_size, action_size=action_size, num_agents=num_agents, random_seed=2)"
   ]
  },
  {
   "cell_type": "code",
   "execution_count": 6,
   "metadata": {},
   "outputs": [],
   "source": [
    "def ddpg(n_episodes=1000, queue=100):\n",
    "    scores_window = deque(maxlen=queue)\n",
    "    scores_all = []\n",
    "    for i_episode in range(1, n_episodes+1):\n",
    "        env_info = env.reset(train_mode=True)[brain_name]      # reset the environment    \n",
    "        states = env_info.vector_observations\n",
    "        agent.reset()\n",
    "        scores = np.zeros(num_agents)\n",
    "        while True:\n",
    "            actions = agent.act(states)                        # select an action (for each agent)\n",
    "            env_info = env.step(actions)[brain_name]           # send all actions to tne environment\n",
    "            next_states = env_info.vector_observations         # get next state (for each agent)\n",
    "            rewards = env_info.rewards                         # get reward (for each agent)\n",
    "            dones = env_info.local_done                        # see if episode finished\n",
    "            agent.step(states, actions, rewards, next_states, dones)\n",
    "            scores += rewards                                  # update the score (for each agent)\n",
    "            states = next_states                               # roll over states to next time step\n",
    "            if np.any(dones):                                  # exit loop if episode finished\n",
    "                break\n",
    "\n",
    "        scores_window.append(np.mean(scores))\n",
    "        scores_all.append(np.mean(scores))\n",
    "        \n",
    "        print('Episode {}  Score: {:.3f}  Average Score: {:.3f}'.format(\n",
    "                i_episode, np.mean(scores), np.mean(scores_window)))\n",
    "\n",
    "        if np.mean(scores_window)>=30.0:\n",
    "            print('\\nEnvironment solved in {:d} episodes!\\tAverage Score: {:.3f}'.format(\n",
    "                i_episode, np.mean(scores_window)))\n",
    "            torch.save(agent.actor_local.state_dict(), 'checkpoint_actor.pth')\n",
    "            torch.save(agent.critic_local.state_dict(), 'checkpoint_critic.pth')\n",
    "            break\n",
    "\n",
    "    return scores_all"
   ]
  },
  {
   "cell_type": "markdown",
   "metadata": {},
   "source": [
    "### 5. Train DDPG agent"
   ]
  },
  {
   "cell_type": "code",
   "execution_count": 7,
   "metadata": {},
   "outputs": [
    {
     "name": "stdout",
     "output_type": "stream",
     "text": [
      "Episode 1  Score: 0.769  Average Score: 0.769\n",
      "Episode 2  Score: 0.998  Average Score: 0.883\n",
      "Episode 3  Score: 0.920  Average Score: 0.896\n",
      "Episode 4  Score: 0.894  Average Score: 0.895\n",
      "Episode 5  Score: 0.963  Average Score: 0.909\n",
      "Episode 6  Score: 1.221  Average Score: 0.961\n",
      "Episode 7  Score: 1.146  Average Score: 0.987\n",
      "Episode 8  Score: 1.457  Average Score: 1.046\n",
      "Episode 9  Score: 1.178  Average Score: 1.061\n",
      "Episode 10  Score: 1.663  Average Score: 1.121\n",
      "Episode 11  Score: 1.453  Average Score: 1.151\n",
      "Episode 12  Score: 2.437  Average Score: 1.258\n",
      "Episode 13  Score: 2.346  Average Score: 1.342\n",
      "Episode 14  Score: 3.020  Average Score: 1.462\n",
      "Episode 15  Score: 2.837  Average Score: 1.554\n",
      "Episode 16  Score: 3.817  Average Score: 1.695\n",
      "Episode 17  Score: 3.899  Average Score: 1.825\n",
      "Episode 18  Score: 4.962  Average Score: 1.999\n",
      "Episode 19  Score: 5.912  Average Score: 2.205\n",
      "Episode 20  Score: 6.967  Average Score: 2.443\n",
      "Episode 21  Score: 8.997  Average Score: 2.755\n",
      "Episode 22  Score: 11.270  Average Score: 3.142\n",
      "Episode 23  Score: 14.664  Average Score: 3.643\n",
      "Episode 24  Score: 15.921  Average Score: 4.155\n",
      "Episode 25  Score: 20.428  Average Score: 4.806\n",
      "Episode 26  Score: 23.585  Average Score: 5.528\n",
      "Episode 27  Score: 24.519  Average Score: 6.231\n",
      "Episode 28  Score: 25.516  Average Score: 6.920\n",
      "Episode 29  Score: 28.264  Average Score: 7.656\n",
      "Episode 30  Score: 27.488  Average Score: 8.317\n",
      "Episode 31  Score: 30.423  Average Score: 9.030\n",
      "Episode 32  Score: 31.775  Average Score: 9.741\n",
      "Episode 33  Score: 32.131  Average Score: 10.420\n",
      "Episode 34  Score: 34.607  Average Score: 11.131\n",
      "Episode 35  Score: 36.378  Average Score: 11.852\n",
      "Episode 36  Score: 36.616  Average Score: 12.540\n",
      "Episode 37  Score: 36.688  Average Score: 13.193\n",
      "Episode 38  Score: 37.401  Average Score: 13.830\n",
      "Episode 39  Score: 36.867  Average Score: 14.421\n",
      "Episode 40  Score: 37.104  Average Score: 14.988\n",
      "Episode 41  Score: 36.628  Average Score: 15.516\n",
      "Episode 42  Score: 37.090  Average Score: 16.029\n",
      "Episode 43  Score: 36.809  Average Score: 16.513\n",
      "Episode 44  Score: 37.282  Average Score: 16.985\n",
      "Episode 45  Score: 37.186  Average Score: 17.433\n",
      "Episode 46  Score: 37.225  Average Score: 17.864\n",
      "Episode 47  Score: 37.124  Average Score: 18.274\n",
      "Episode 48  Score: 37.230  Average Score: 18.668\n",
      "Episode 49  Score: 37.087  Average Score: 19.044\n",
      "Episode 50  Score: 37.508  Average Score: 19.414\n",
      "Episode 51  Score: 37.094  Average Score: 19.760\n",
      "Episode 52  Score: 37.572  Average Score: 20.103\n",
      "Episode 53  Score: 37.186  Average Score: 20.425\n",
      "Episode 54  Score: 37.287  Average Score: 20.737\n",
      "Episode 55  Score: 36.729  Average Score: 21.028\n",
      "Episode 56  Score: 36.893  Average Score: 21.312\n",
      "Episode 57  Score: 36.670  Average Score: 21.581\n",
      "Episode 58  Score: 36.831  Average Score: 21.844\n",
      "Episode 59  Score: 36.648  Average Score: 22.095\n",
      "Episode 60  Score: 37.310  Average Score: 22.348\n",
      "Episode 61  Score: 38.026  Average Score: 22.605\n",
      "Episode 62  Score: 37.354  Average Score: 22.843\n",
      "Episode 63  Score: 37.228  Average Score: 23.072\n",
      "Episode 64  Score: 36.577  Average Score: 23.283\n",
      "Episode 65  Score: 37.510  Average Score: 23.502\n",
      "Episode 66  Score: 36.473  Average Score: 23.698\n",
      "Episode 67  Score: 36.133  Average Score: 23.884\n",
      "Episode 68  Score: 37.234  Average Score: 24.080\n",
      "Episode 69  Score: 36.802  Average Score: 24.264\n",
      "Episode 70  Score: 37.519  Average Score: 24.454\n",
      "Episode 71  Score: 36.820  Average Score: 24.628\n",
      "Episode 72  Score: 37.048  Average Score: 24.800\n",
      "Episode 73  Score: 36.133  Average Score: 24.956\n",
      "Episode 74  Score: 34.637  Average Score: 25.087\n",
      "Episode 75  Score: 35.210  Average Score: 25.222\n",
      "Episode 76  Score: 35.806  Average Score: 25.361\n",
      "Episode 77  Score: 35.472  Average Score: 25.492\n",
      "Episode 78  Score: 36.613  Average Score: 25.635\n",
      "Episode 79  Score: 36.120  Average Score: 25.767\n",
      "Episode 80  Score: 36.027  Average Score: 25.896\n",
      "Episode 81  Score: 36.650  Average Score: 26.028\n",
      "Episode 82  Score: 36.004  Average Score: 26.150\n",
      "Episode 83  Score: 35.904  Average Score: 26.268\n",
      "Episode 84  Score: 35.682  Average Score: 26.380\n",
      "Episode 85  Score: 35.538  Average Score: 26.487\n",
      "Episode 86  Score: 35.892  Average Score: 26.597\n",
      "Episode 87  Score: 36.443  Average Score: 26.710\n",
      "Episode 88  Score: 36.419  Average Score: 26.820\n",
      "Episode 89  Score: 36.270  Average Score: 26.926\n",
      "Episode 90  Score: 35.274  Average Score: 27.019\n",
      "Episode 91  Score: 35.482  Average Score: 27.112\n",
      "Episode 92  Score: 34.192  Average Score: 27.189\n",
      "Episode 93  Score: 34.524  Average Score: 27.268\n",
      "Episode 94  Score: 36.023  Average Score: 27.361\n",
      "Episode 95  Score: 36.498  Average Score: 27.457\n",
      "Episode 96  Score: 35.954  Average Score: 27.546\n",
      "Episode 97  Score: 36.469  Average Score: 27.638\n",
      "Episode 98  Score: 36.149  Average Score: 27.725\n",
      "Episode 99  Score: 36.333  Average Score: 27.812\n",
      "Episode 100  Score: 35.758  Average Score: 27.891\n",
      "Episode 101  Score: 36.496  Average Score: 28.248\n",
      "Episode 102  Score: 35.975  Average Score: 28.598\n",
      "Episode 103  Score: 36.494  Average Score: 28.954\n",
      "Episode 104  Score: 36.695  Average Score: 29.312\n",
      "Episode 105  Score: 36.240  Average Score: 29.665\n",
      "Episode 106  Score: 36.648  Average Score: 30.019\n",
      "\n",
      "Environment solved in 106 episodes!\tAverage Score: 30.019\n"
     ]
    }
   ],
   "source": [
    "scores = ddpg()"
   ]
  },
  {
   "cell_type": "code",
   "execution_count": 8,
   "metadata": {
    "scrolled": true
   },
   "outputs": [
    {
     "name": "stderr",
     "output_type": "stream",
     "text": [
      "WARNING:matplotlib.legend:No handles with labels found to put in legend.\n"
     ]
    },
    {
     "data": {
      "image/png": "[encoded data removed]",
      "text/plain": [
       "<Figure size 432x288 with 1 Axes>"
      ]
     },
     "metadata": {
      "needs_background": "light"
     },
     "output_type": "display_data"
    }
   ],
   "source": [
    "# plot the scores\n",
    "fig = plt.figure()\n",
    "plt.subplot(1, 1, 1)  # 111\n",
    "plt.plot(np.arange(1, len(scores)+1), scores)\n",
    "plt.ylabel('Score')\n",
    "plt.xlabel('Episode #')\n",
    "plt.legend()\n",
    "plt.savefig('score_per_episode_plot.png')\n",
    "plt.show()"
   ]
  },
  {
   "cell_type": "markdown",
   "metadata": {},
   "source": [
    "### 6. Load trained agent and watch its performance"
   ]
  },
  {
   "cell_type": "code",
   "execution_count": 9,
   "metadata": {},
   "outputs": [
    {
     "name": "stdout",
     "output_type": "stream",
     "text": [
      "Total score (averaged over agents) this episode: 33.74699924569577\n"
     ]
    }
   ],
   "source": [
    "agent.actor_local.load_state_dict(torch.load('checkpoint_actor.pth'))\n",
    "agent.critic_local.load_state_dict(torch.load('checkpoint_critic.pth'))\n",
    "\n",
    "env_info = env.reset(train_mode=False)[brain_name]      # reset the environment    \n",
    "states = env_info.vector_observations                  # get the current state (for each agent)\n",
    "scores = np.zeros(num_agents)                          # initialize the score (for each agent)\n",
    "while True:\n",
    "    actions = agent.act(states)                        # select an action (for each agent)\n",
    "    # actions = np.clip(actions, -1, 1)                # all actions between -1 and 1\n",
    "    env_info = env.step(actions)[brain_name]           # send all actions to tne environment\n",
    "    next_states = env_info.vector_observations         # get next state (for each agent)\n",
    "    rewards = env_info.rewards                         # get reward (for each agent)\n",
    "    dones = env_info.local_done                        # see if episode finished\n",
    "    scores += env_info.rewards                         # update the score (for each agent)\n",
    "    states = next_states                               # roll over states to next time step\n",
    "    if np.any(dones):                                  # exit loop if episode finished\n",
    "        break\n",
    "print('Total score (averaged over agents) this episode: {}'.format(np.mean(scores)))"
   ]
  },
  {
   "cell_type": "markdown",
   "metadata": {},
   "source": [
    "### 7. close the environment."
   ]
  },
  {
   "cell_type": "code",
   "execution_count": null,
   "metadata": {},
   "outputs": [],
   "source": [
    "env.close()"
   ]
  }
 ],
 "metadata": {
  "kernelspec": {
   "display_name": "Python 3",
   "language": "python",
   "name": "python3"
  },
  "language_info": {
   "codemirror_mode": {
    "name": "ipython",
    "version": 3
   },
   "file_extension": ".py",
   "mimetype": "text/x-python",
   "name": "python",
   "nbconvert_exporter": "python",
   "pygments_lexer": "ipython3",
   "version": "3.6.13"
  }
 },
 "nbformat": 4,
 "nbformat_minor": 2
}
